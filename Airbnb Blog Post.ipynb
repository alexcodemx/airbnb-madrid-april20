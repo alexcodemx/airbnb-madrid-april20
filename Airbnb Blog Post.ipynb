{
 "cells": [
  {
   "cell_type": "code",
   "execution_count": 1,
   "metadata": {},
   "outputs": [],
   "source": [
    "import pandas as pd\n",
    "import numpy as np\n",
    "import matplotlib.pyplot as plt\n",
    "%matplotlib inline\n",
    "import seaborn as sns\n",
    "import datetime\n",
    "datetime.datetime.strptime\n",
    "from matplotlib.colors import LinearSegmentedColormap\n",
    "\n",
    "# https://usbrandcolors.com/airbnb-colors/"
   ]
  },
  {
   "cell_type": "markdown",
   "metadata": {},
   "source": [
    "# Data Wrangling\n",
    "\n",
    "1. Data from 2018 extracted on 2018-04-12\n",
    "2. Data from 2019 extracted on 2019-04-11\n",
    "3. Data from 2020 extracted on 2020-04-17"
   ]
  },
  {
   "cell_type": "code",
   "execution_count": 2,
   "metadata": {},
   "outputs": [],
   "source": [
    "lst18 = pd.read_csv(\"2018/listings18.zip\", compression='zip', dtype={\"id\":object, \"host_id\":object,\"zipcode\": object, \n",
    "                                                \"price\":object , \"weekly_price\": object, \"monthly_price\": object})\n",
    "lst18['retrieved_date'] = pd.to_datetime('20180412', format='%Y%m%d', errors='ignore')\n",
    "\n",
    "lst19 = pd.read_csv(\"2019/listings19.zip\", compression='zip', dtype={\"id\":object, \"host_id\":object,\"zipcode\": object, \n",
    "                                                \"price\":object , \"weekly_price\": object, \"monthly_price\": object})\n",
    "lst19['retrieved_date'] = pd.to_datetime('20190411', format='%Y%m%d', errors='ignore')\n",
    "\n",
    "lst20 = pd.read_csv(\"2020/listings20.zip\", compression='zip', dtype={\"id\":object, \"host_id\":object,\"zipcode\": object, \n",
    "                                                \"price\":object , \"weekly_price\": object, \"monthly_price\": object})\n",
    "lst20['retrieved_date'] = pd.to_datetime('20200417', format='%Y%m%d', errors='ignore')"
   ]
  },
  {
   "cell_type": "code",
   "execution_count": 3,
   "metadata": {},
   "outputs": [
    {
     "data": {
      "text/html": [
       "<div>\n",
       "<style scoped>\n",
       "    .dataframe tbody tr th:only-of-type {\n",
       "        vertical-align: middle;\n",
       "    }\n",
       "\n",
       "    .dataframe tbody tr th {\n",
       "        vertical-align: top;\n",
       "    }\n",
       "\n",
       "    .dataframe thead th {\n",
       "        text-align: right;\n",
       "    }\n",
       "</style>\n",
       "<table border=\"1\" class=\"dataframe\">\n",
       "  <thead>\n",
       "    <tr style=\"text-align: right;\">\n",
       "      <th></th>\n",
       "      <th>id</th>\n",
       "      <th>listing_url</th>\n",
       "      <th>scrape_id</th>\n",
       "      <th>last_scraped</th>\n",
       "      <th>name</th>\n",
       "      <th>summary</th>\n",
       "      <th>space</th>\n",
       "      <th>description</th>\n",
       "      <th>experiences_offered</th>\n",
       "      <th>neighborhood_overview</th>\n",
       "      <th>...</th>\n",
       "      <th>license</th>\n",
       "      <th>jurisdiction_names</th>\n",
       "      <th>instant_bookable</th>\n",
       "      <th>is_business_travel_ready</th>\n",
       "      <th>cancellation_policy</th>\n",
       "      <th>require_guest_profile_picture</th>\n",
       "      <th>require_guest_phone_verification</th>\n",
       "      <th>calculated_host_listings_count</th>\n",
       "      <th>reviews_per_month</th>\n",
       "      <th>retrieved_date</th>\n",
       "    </tr>\n",
       "  </thead>\n",
       "  <tbody>\n",
       "    <tr>\n",
       "      <th>0</th>\n",
       "      <td>1742289</td>\n",
       "      <td>https://www.airbnb.com/rooms/1742289</td>\n",
       "      <td>20180412035726</td>\n",
       "      <td>2018-04-12</td>\n",
       "      <td>ESTUDIO EN MADRID DE LOS AUSTRIAS</td>\n",
       "      <td>PEQUEÑO ESTUDIO CON INMEJORABLE UBICACIÓN.  EN...</td>\n",
       "      <td>Estudio en un ambiente con cuarto de baño inde...</td>\n",
       "      <td>PEQUEÑO ESTUDIO CON INMEJORABLE UBICACIÓN.  EN...</td>\n",
       "      <td>none</td>\n",
       "      <td>El vecindario si bien esta en pleno centro de ...</td>\n",
       "      <td>...</td>\n",
       "      <td>NaN</td>\n",
       "      <td>NaN</td>\n",
       "      <td>t</td>\n",
       "      <td>f</td>\n",
       "      <td>strict</td>\n",
       "      <td>f</td>\n",
       "      <td>f</td>\n",
       "      <td>1</td>\n",
       "      <td>1.78</td>\n",
       "      <td>2018-04-12</td>\n",
       "    </tr>\n",
       "  </tbody>\n",
       "</table>\n",
       "<p>1 rows × 97 columns</p>\n",
       "</div>"
      ],
      "text/plain": [
       "        id                           listing_url       scrape_id last_scraped  \\\n",
       "0  1742289  https://www.airbnb.com/rooms/1742289  20180412035726   2018-04-12   \n",
       "\n",
       "                                name  \\\n",
       "0  ESTUDIO EN MADRID DE LOS AUSTRIAS   \n",
       "\n",
       "                                             summary  \\\n",
       "0  PEQUEÑO ESTUDIO CON INMEJORABLE UBICACIÓN.  EN...   \n",
       "\n",
       "                                               space  \\\n",
       "0  Estudio en un ambiente con cuarto de baño inde...   \n",
       "\n",
       "                                         description experiences_offered  \\\n",
       "0  PEQUEÑO ESTUDIO CON INMEJORABLE UBICACIÓN.  EN...                none   \n",
       "\n",
       "                               neighborhood_overview  ... license  \\\n",
       "0  El vecindario si bien esta en pleno centro de ...  ...     NaN   \n",
       "\n",
       "  jurisdiction_names instant_bookable is_business_travel_ready  \\\n",
       "0                NaN                t                        f   \n",
       "\n",
       "  cancellation_policy  require_guest_profile_picture  \\\n",
       "0              strict                              f   \n",
       "\n",
       "   require_guest_phone_verification calculated_host_listings_count  \\\n",
       "0                                 f                              1   \n",
       "\n",
       "   reviews_per_month retrieved_date  \n",
       "0               1.78     2018-04-12  \n",
       "\n",
       "[1 rows x 97 columns]"
      ]
     },
     "execution_count": 3,
     "metadata": {},
     "output_type": "execute_result"
    }
   ],
   "source": [
    "lst18.head(1)"
   ]
  },
  {
   "cell_type": "code",
   "execution_count": 4,
   "metadata": {},
   "outputs": [
    {
     "data": {
      "text/html": [
       "<div>\n",
       "<style scoped>\n",
       "    .dataframe tbody tr th:only-of-type {\n",
       "        vertical-align: middle;\n",
       "    }\n",
       "\n",
       "    .dataframe tbody tr th {\n",
       "        vertical-align: top;\n",
       "    }\n",
       "\n",
       "    .dataframe thead th {\n",
       "        text-align: right;\n",
       "    }\n",
       "</style>\n",
       "<table border=\"1\" class=\"dataframe\">\n",
       "  <thead>\n",
       "    <tr style=\"text-align: right;\">\n",
       "      <th></th>\n",
       "      <th>id</th>\n",
       "      <th>listing_url</th>\n",
       "      <th>scrape_id</th>\n",
       "      <th>last_scraped</th>\n",
       "      <th>name</th>\n",
       "      <th>summary</th>\n",
       "      <th>space</th>\n",
       "      <th>description</th>\n",
       "      <th>experiences_offered</th>\n",
       "      <th>neighborhood_overview</th>\n",
       "      <th>...</th>\n",
       "      <th>is_business_travel_ready</th>\n",
       "      <th>cancellation_policy</th>\n",
       "      <th>require_guest_profile_picture</th>\n",
       "      <th>require_guest_phone_verification</th>\n",
       "      <th>calculated_host_listings_count</th>\n",
       "      <th>calculated_host_listings_count_entire_homes</th>\n",
       "      <th>calculated_host_listings_count_private_rooms</th>\n",
       "      <th>calculated_host_listings_count_shared_rooms</th>\n",
       "      <th>reviews_per_month</th>\n",
       "      <th>retrieved_date</th>\n",
       "    </tr>\n",
       "  </thead>\n",
       "  <tbody>\n",
       "    <tr>\n",
       "      <th>0</th>\n",
       "      <td>6369</td>\n",
       "      <td>https://www.airbnb.com/rooms/6369</td>\n",
       "      <td>20190411154233</td>\n",
       "      <td>2019-04-11</td>\n",
       "      <td>Rooftop terrace room with ensuite bathroom, Airc.</td>\n",
       "      <td>Atico en la calle Principe de Vergara, con bañ...</td>\n",
       "      <td>BETTER THAN A HOTEL.Upscale neighboorhood (Met...</td>\n",
       "      <td>BETTER THAN A HOTEL.Upscale neighboorhood (Met...</td>\n",
       "      <td>none</td>\n",
       "      <td>Nice and definitely  non touristic neighborhoo...</td>\n",
       "      <td>...</td>\n",
       "      <td>f</td>\n",
       "      <td>flexible</td>\n",
       "      <td>f</td>\n",
       "      <td>f</td>\n",
       "      <td>1</td>\n",
       "      <td>0</td>\n",
       "      <td>1</td>\n",
       "      <td>0</td>\n",
       "      <td>0.56</td>\n",
       "      <td>2019-04-11</td>\n",
       "    </tr>\n",
       "  </tbody>\n",
       "</table>\n",
       "<p>1 rows × 107 columns</p>\n",
       "</div>"
      ],
      "text/plain": [
       "     id                        listing_url       scrape_id last_scraped  \\\n",
       "0  6369  https://www.airbnb.com/rooms/6369  20190411154233   2019-04-11   \n",
       "\n",
       "                                                name  \\\n",
       "0  Rooftop terrace room with ensuite bathroom, Airc.   \n",
       "\n",
       "                                             summary  \\\n",
       "0  Atico en la calle Principe de Vergara, con bañ...   \n",
       "\n",
       "                                               space  \\\n",
       "0  BETTER THAN A HOTEL.Upscale neighboorhood (Met...   \n",
       "\n",
       "                                         description experiences_offered  \\\n",
       "0  BETTER THAN A HOTEL.Upscale neighboorhood (Met...                none   \n",
       "\n",
       "                               neighborhood_overview  ...  \\\n",
       "0  Nice and definitely  non touristic neighborhoo...  ...   \n",
       "\n",
       "  is_business_travel_ready cancellation_policy require_guest_profile_picture  \\\n",
       "0                        f            flexible                             f   \n",
       "\n",
       "  require_guest_phone_verification calculated_host_listings_count  \\\n",
       "0                                f                              1   \n",
       "\n",
       "   calculated_host_listings_count_entire_homes  \\\n",
       "0                                            0   \n",
       "\n",
       "   calculated_host_listings_count_private_rooms  \\\n",
       "0                                             1   \n",
       "\n",
       "  calculated_host_listings_count_shared_rooms  reviews_per_month  \\\n",
       "0                                           0               0.56   \n",
       "\n",
       "  retrieved_date  \n",
       "0     2019-04-11  \n",
       "\n",
       "[1 rows x 107 columns]"
      ]
     },
     "execution_count": 4,
     "metadata": {},
     "output_type": "execute_result"
    }
   ],
   "source": [
    "lst19.head(1)"
   ]
  },
  {
   "cell_type": "code",
   "execution_count": 5,
   "metadata": {},
   "outputs": [
    {
     "data": {
      "text/html": [
       "<div>\n",
       "<style scoped>\n",
       "    .dataframe tbody tr th:only-of-type {\n",
       "        vertical-align: middle;\n",
       "    }\n",
       "\n",
       "    .dataframe tbody tr th {\n",
       "        vertical-align: top;\n",
       "    }\n",
       "\n",
       "    .dataframe thead th {\n",
       "        text-align: right;\n",
       "    }\n",
       "</style>\n",
       "<table border=\"1\" class=\"dataframe\">\n",
       "  <thead>\n",
       "    <tr style=\"text-align: right;\">\n",
       "      <th></th>\n",
       "      <th>id</th>\n",
       "      <th>listing_url</th>\n",
       "      <th>scrape_id</th>\n",
       "      <th>last_scraped</th>\n",
       "      <th>name</th>\n",
       "      <th>summary</th>\n",
       "      <th>space</th>\n",
       "      <th>description</th>\n",
       "      <th>experiences_offered</th>\n",
       "      <th>neighborhood_overview</th>\n",
       "      <th>...</th>\n",
       "      <th>is_business_travel_ready</th>\n",
       "      <th>cancellation_policy</th>\n",
       "      <th>require_guest_profile_picture</th>\n",
       "      <th>require_guest_phone_verification</th>\n",
       "      <th>calculated_host_listings_count</th>\n",
       "      <th>calculated_host_listings_count_entire_homes</th>\n",
       "      <th>calculated_host_listings_count_private_rooms</th>\n",
       "      <th>calculated_host_listings_count_shared_rooms</th>\n",
       "      <th>reviews_per_month</th>\n",
       "      <th>retrieved_date</th>\n",
       "    </tr>\n",
       "  </thead>\n",
       "  <tbody>\n",
       "    <tr>\n",
       "      <th>0</th>\n",
       "      <td>6369</td>\n",
       "      <td>https://www.airbnb.com/rooms/6369</td>\n",
       "      <td>20200417153609</td>\n",
       "      <td>2020-04-18</td>\n",
       "      <td>Rooftop terrace room ,  ensuite bathroom</td>\n",
       "      <td>Excellent connection with the AIRPORT and EXHI...</td>\n",
       "      <td>BETTER THAN A HOTEL.Upscale neighboorhood (Met...</td>\n",
       "      <td>Excellent connection with the AIRPORT and EXHI...</td>\n",
       "      <td>none</td>\n",
       "      <td>Nice and definitely  non touristic neighborhoo...</td>\n",
       "      <td>...</td>\n",
       "      <td>f</td>\n",
       "      <td>flexible</td>\n",
       "      <td>f</td>\n",
       "      <td>f</td>\n",
       "      <td>1</td>\n",
       "      <td>0</td>\n",
       "      <td>1</td>\n",
       "      <td>0</td>\n",
       "      <td>0.61</td>\n",
       "      <td>2020-04-17</td>\n",
       "    </tr>\n",
       "  </tbody>\n",
       "</table>\n",
       "<p>1 rows × 107 columns</p>\n",
       "</div>"
      ],
      "text/plain": [
       "     id                        listing_url       scrape_id last_scraped  \\\n",
       "0  6369  https://www.airbnb.com/rooms/6369  20200417153609   2020-04-18   \n",
       "\n",
       "                                       name  \\\n",
       "0  Rooftop terrace room ,  ensuite bathroom   \n",
       "\n",
       "                                             summary  \\\n",
       "0  Excellent connection with the AIRPORT and EXHI...   \n",
       "\n",
       "                                               space  \\\n",
       "0  BETTER THAN A HOTEL.Upscale neighboorhood (Met...   \n",
       "\n",
       "                                         description experiences_offered  \\\n",
       "0  Excellent connection with the AIRPORT and EXHI...                none   \n",
       "\n",
       "                               neighborhood_overview  ...  \\\n",
       "0  Nice and definitely  non touristic neighborhoo...  ...   \n",
       "\n",
       "  is_business_travel_ready cancellation_policy require_guest_profile_picture  \\\n",
       "0                        f            flexible                             f   \n",
       "\n",
       "  require_guest_phone_verification calculated_host_listings_count  \\\n",
       "0                                f                              1   \n",
       "\n",
       "   calculated_host_listings_count_entire_homes  \\\n",
       "0                                            0   \n",
       "\n",
       "   calculated_host_listings_count_private_rooms  \\\n",
       "0                                             1   \n",
       "\n",
       "  calculated_host_listings_count_shared_rooms  reviews_per_month  \\\n",
       "0                                           0               0.61   \n",
       "\n",
       "  retrieved_date  \n",
       "0     2020-04-17  \n",
       "\n",
       "[1 rows x 107 columns]"
      ]
     },
     "execution_count": 5,
     "metadata": {},
     "output_type": "execute_result"
    }
   ],
   "source": [
    "lst20.head(1)"
   ]
  },
  {
   "cell_type": "code",
   "execution_count": 6,
   "metadata": {},
   "outputs": [],
   "source": [
    "# Convert data type the dates\n",
    "\n",
    "lst18.loc[:,'host_since'] = pd.to_datetime(lst18.loc[:,'host_since'])\n",
    "lst19.loc[:,'host_since'] = pd.to_datetime(lst19.loc[:,'host_since'])\n",
    "lst20.loc[:,'host_since'] = pd.to_datetime(lst20.loc[:,'host_since'])\n",
    "\n",
    "lst18.loc[:,'last_review'] = pd.to_datetime(lst18.loc[:,'last_review'])\n",
    "lst19.loc[:,'last_review'] = pd.to_datetime(lst19.loc[:,'last_review'])\n",
    "lst20.loc[:,'last_review'] = pd.to_datetime(lst20.loc[:,'last_review'])"
   ]
  },
  {
   "cell_type": "code",
   "execution_count": 7,
   "metadata": {},
   "outputs": [
    {
     "data": {
      "text/html": [
       "<div>\n",
       "<style scoped>\n",
       "    .dataframe tbody tr th:only-of-type {\n",
       "        vertical-align: middle;\n",
       "    }\n",
       "\n",
       "    .dataframe tbody tr th {\n",
       "        vertical-align: top;\n",
       "    }\n",
       "\n",
       "    .dataframe thead th {\n",
       "        text-align: right;\n",
       "    }\n",
       "</style>\n",
       "<table border=\"1\" class=\"dataframe\">\n",
       "  <thead>\n",
       "    <tr style=\"text-align: right;\">\n",
       "      <th></th>\n",
       "      <th>id</th>\n",
       "      <th>zipcode</th>\n",
       "      <th>property_type</th>\n",
       "      <th>room_type</th>\n",
       "      <th>price</th>\n",
       "      <th>neighbourhood_group_cleansed</th>\n",
       "      <th>listing_url</th>\n",
       "      <th>last_review</th>\n",
       "      <th>reviews_per_month</th>\n",
       "      <th>host_id</th>\n",
       "      <th>host_since</th>\n",
       "      <th>retrieved_date</th>\n",
       "      <th>availability_365</th>\n",
       "    </tr>\n",
       "  </thead>\n",
       "  <tbody>\n",
       "    <tr>\n",
       "      <th>0</th>\n",
       "      <td>1742289</td>\n",
       "      <td>28005</td>\n",
       "      <td>Apartment</td>\n",
       "      <td>Entire home/apt</td>\n",
       "      <td>$45.00</td>\n",
       "      <td>Centro</td>\n",
       "      <td>https://www.airbnb.com/rooms/1742289</td>\n",
       "      <td>2018-02-09</td>\n",
       "      <td>1.78</td>\n",
       "      <td>9172209</td>\n",
       "      <td>2013-10-01</td>\n",
       "      <td>2018-04-12</td>\n",
       "      <td>307</td>\n",
       "    </tr>\n",
       "  </tbody>\n",
       "</table>\n",
       "</div>"
      ],
      "text/plain": [
       "        id zipcode property_type        room_type   price  \\\n",
       "0  1742289   28005     Apartment  Entire home/apt  $45.00   \n",
       "\n",
       "  neighbourhood_group_cleansed                           listing_url  \\\n",
       "0                       Centro  https://www.airbnb.com/rooms/1742289   \n",
       "\n",
       "  last_review  reviews_per_month  host_id host_since retrieved_date  \\\n",
       "0  2018-02-09               1.78  9172209 2013-10-01     2018-04-12   \n",
       "\n",
       "   availability_365  \n",
       "0               307  "
      ]
     },
     "execution_count": 7,
     "metadata": {},
     "output_type": "execute_result"
    }
   ],
   "source": [
    "lst18_red = lst18[['id','zipcode','property_type','room_type','price','neighbourhood_group_cleansed'\n",
    "                   ,'listing_url','last_review','reviews_per_month','host_id','host_since','retrieved_date'\n",
    "                   ,'availability_365']]\n",
    "lst18_red.head(1)"
   ]
  },
  {
   "cell_type": "code",
   "execution_count": 8,
   "metadata": {},
   "outputs": [
    {
     "data": {
      "text/plain": [
       "id                                      object\n",
       "zipcode                                 object\n",
       "property_type                           object\n",
       "room_type                               object\n",
       "price                                   object\n",
       "neighbourhood_group_cleansed            object\n",
       "listing_url                             object\n",
       "last_review                     datetime64[ns]\n",
       "reviews_per_month                      float64\n",
       "host_id                                 object\n",
       "host_since                      datetime64[ns]\n",
       "retrieved_date                  datetime64[ns]\n",
       "availability_365                         int64\n",
       "dtype: object"
      ]
     },
     "execution_count": 8,
     "metadata": {},
     "output_type": "execute_result"
    }
   ],
   "source": [
    "# Data Types Check\n",
    "\n",
    "lst18_red.dtypes"
   ]
  },
  {
   "cell_type": "code",
   "execution_count": 9,
   "metadata": {},
   "outputs": [
    {
     "data": {
      "text/html": [
       "<div>\n",
       "<style scoped>\n",
       "    .dataframe tbody tr th:only-of-type {\n",
       "        vertical-align: middle;\n",
       "    }\n",
       "\n",
       "    .dataframe tbody tr th {\n",
       "        vertical-align: top;\n",
       "    }\n",
       "\n",
       "    .dataframe thead th {\n",
       "        text-align: right;\n",
       "    }\n",
       "</style>\n",
       "<table border=\"1\" class=\"dataframe\">\n",
       "  <thead>\n",
       "    <tr style=\"text-align: right;\">\n",
       "      <th></th>\n",
       "      <th>host_since</th>\n",
       "      <th>count</th>\n",
       "    </tr>\n",
       "  </thead>\n",
       "  <tbody>\n",
       "    <tr>\n",
       "      <th>2394</th>\n",
       "      <td>2018-04-11</td>\n",
       "      <td>2</td>\n",
       "    </tr>\n",
       "    <tr>\n",
       "      <th>2393</th>\n",
       "      <td>2018-04-10</td>\n",
       "      <td>5</td>\n",
       "    </tr>\n",
       "    <tr>\n",
       "      <th>2392</th>\n",
       "      <td>2018-04-09</td>\n",
       "      <td>2</td>\n",
       "    </tr>\n",
       "    <tr>\n",
       "      <th>2391</th>\n",
       "      <td>2018-04-08</td>\n",
       "      <td>3</td>\n",
       "    </tr>\n",
       "    <tr>\n",
       "      <th>2390</th>\n",
       "      <td>2018-04-07</td>\n",
       "      <td>17</td>\n",
       "    </tr>\n",
       "    <tr>\n",
       "      <th>2389</th>\n",
       "      <td>2018-04-06</td>\n",
       "      <td>4</td>\n",
       "    </tr>\n",
       "    <tr>\n",
       "      <th>2388</th>\n",
       "      <td>2018-04-05</td>\n",
       "      <td>3</td>\n",
       "    </tr>\n",
       "  </tbody>\n",
       "</table>\n",
       "</div>"
      ],
      "text/plain": [
       "     host_since  count\n",
       "2394 2018-04-11      2\n",
       "2393 2018-04-10      5\n",
       "2392 2018-04-09      2\n",
       "2391 2018-04-08      3\n",
       "2390 2018-04-07     17\n",
       "2389 2018-04-06      4\n",
       "2388 2018-04-05      3"
      ]
     },
     "execution_count": 9,
     "metadata": {},
     "output_type": "execute_result"
    }
   ],
   "source": [
    "# Top recent enrollment dates.\n",
    "\n",
    "lst18_red.groupby(\"host_since\")[\"host_since\"].count().reset_index(name=\"count\").sort_values([\"host_since\"], ascending=False).head(7)"
   ]
  },
  {
   "cell_type": "code",
   "execution_count": 10,
   "metadata": {},
   "outputs": [
    {
     "data": {
      "text/html": [
       "<div>\n",
       "<style scoped>\n",
       "    .dataframe tbody tr th:only-of-type {\n",
       "        vertical-align: middle;\n",
       "    }\n",
       "\n",
       "    .dataframe tbody tr th {\n",
       "        vertical-align: top;\n",
       "    }\n",
       "\n",
       "    .dataframe thead th {\n",
       "        text-align: right;\n",
       "    }\n",
       "</style>\n",
       "<table border=\"1\" class=\"dataframe\">\n",
       "  <thead>\n",
       "    <tr style=\"text-align: right;\">\n",
       "      <th></th>\n",
       "      <th>id</th>\n",
       "      <th>zipcode</th>\n",
       "      <th>property_type</th>\n",
       "      <th>room_type</th>\n",
       "      <th>price</th>\n",
       "      <th>neighbourhood_group_cleansed</th>\n",
       "      <th>listing_url</th>\n",
       "      <th>last_review</th>\n",
       "      <th>reviews_per_month</th>\n",
       "      <th>host_id</th>\n",
       "      <th>host_since</th>\n",
       "      <th>retrieved_date</th>\n",
       "      <th>availability_365</th>\n",
       "    </tr>\n",
       "  </thead>\n",
       "  <tbody>\n",
       "    <tr>\n",
       "      <th>0</th>\n",
       "      <td>6369</td>\n",
       "      <td>28016</td>\n",
       "      <td>Apartment</td>\n",
       "      <td>Private room</td>\n",
       "      <td>$70.00</td>\n",
       "      <td>Chamartín</td>\n",
       "      <td>https://www.airbnb.com/rooms/6369</td>\n",
       "      <td>2019-03-23</td>\n",
       "      <td>0.56</td>\n",
       "      <td>13660</td>\n",
       "      <td>2009-04-16</td>\n",
       "      <td>2019-04-11</td>\n",
       "      <td>75</td>\n",
       "    </tr>\n",
       "  </tbody>\n",
       "</table>\n",
       "</div>"
      ],
      "text/plain": [
       "     id zipcode property_type     room_type   price  \\\n",
       "0  6369   28016     Apartment  Private room  $70.00   \n",
       "\n",
       "  neighbourhood_group_cleansed                        listing_url last_review  \\\n",
       "0                    Chamartín  https://www.airbnb.com/rooms/6369  2019-03-23   \n",
       "\n",
       "   reviews_per_month host_id host_since retrieved_date  availability_365  \n",
       "0               0.56   13660 2009-04-16     2019-04-11                75  "
      ]
     },
     "execution_count": 10,
     "metadata": {},
     "output_type": "execute_result"
    }
   ],
   "source": [
    "lst19_red = lst19[['id','zipcode','property_type','room_type','price','neighbourhood_group_cleansed'\n",
    "                   ,'listing_url','last_review','reviews_per_month','host_id','host_since','retrieved_date'\n",
    "                   ,'availability_365']]\n",
    "lst19_red.head(1)"
   ]
  },
  {
   "cell_type": "code",
   "execution_count": 11,
   "metadata": {},
   "outputs": [
    {
     "data": {
      "text/plain": [
       "id                                      object\n",
       "zipcode                                 object\n",
       "property_type                           object\n",
       "room_type                               object\n",
       "price                                   object\n",
       "neighbourhood_group_cleansed            object\n",
       "listing_url                             object\n",
       "last_review                     datetime64[ns]\n",
       "reviews_per_month                      float64\n",
       "host_id                                 object\n",
       "host_since                      datetime64[ns]\n",
       "retrieved_date                  datetime64[ns]\n",
       "availability_365                         int64\n",
       "dtype: object"
      ]
     },
     "execution_count": 11,
     "metadata": {},
     "output_type": "execute_result"
    }
   ],
   "source": [
    "# Data Types Check\n",
    "\n",
    "lst19_red.dtypes"
   ]
  },
  {
   "cell_type": "code",
   "execution_count": 12,
   "metadata": {},
   "outputs": [
    {
     "data": {
      "text/html": [
       "<div>\n",
       "<style scoped>\n",
       "    .dataframe tbody tr th:only-of-type {\n",
       "        vertical-align: middle;\n",
       "    }\n",
       "\n",
       "    .dataframe tbody tr th {\n",
       "        vertical-align: top;\n",
       "    }\n",
       "\n",
       "    .dataframe thead th {\n",
       "        text-align: right;\n",
       "    }\n",
       "</style>\n",
       "<table border=\"1\" class=\"dataframe\">\n",
       "  <thead>\n",
       "    <tr style=\"text-align: right;\">\n",
       "      <th></th>\n",
       "      <th>host_since</th>\n",
       "      <th>count</th>\n",
       "    </tr>\n",
       "  </thead>\n",
       "  <tbody>\n",
       "    <tr>\n",
       "      <th>2663</th>\n",
       "      <td>2019-04-10</td>\n",
       "      <td>3</td>\n",
       "    </tr>\n",
       "    <tr>\n",
       "      <th>2662</th>\n",
       "      <td>2019-04-09</td>\n",
       "      <td>10</td>\n",
       "    </tr>\n",
       "    <tr>\n",
       "      <th>2661</th>\n",
       "      <td>2019-04-08</td>\n",
       "      <td>13</td>\n",
       "    </tr>\n",
       "    <tr>\n",
       "      <th>2660</th>\n",
       "      <td>2019-04-07</td>\n",
       "      <td>12</td>\n",
       "    </tr>\n",
       "    <tr>\n",
       "      <th>2659</th>\n",
       "      <td>2019-04-06</td>\n",
       "      <td>5</td>\n",
       "    </tr>\n",
       "    <tr>\n",
       "      <th>2658</th>\n",
       "      <td>2019-04-05</td>\n",
       "      <td>9</td>\n",
       "    </tr>\n",
       "    <tr>\n",
       "      <th>2657</th>\n",
       "      <td>2019-04-04</td>\n",
       "      <td>3</td>\n",
       "    </tr>\n",
       "  </tbody>\n",
       "</table>\n",
       "</div>"
      ],
      "text/plain": [
       "     host_since  count\n",
       "2663 2019-04-10      3\n",
       "2662 2019-04-09     10\n",
       "2661 2019-04-08     13\n",
       "2660 2019-04-07     12\n",
       "2659 2019-04-06      5\n",
       "2658 2019-04-05      9\n",
       "2657 2019-04-04      3"
      ]
     },
     "execution_count": 12,
     "metadata": {},
     "output_type": "execute_result"
    }
   ],
   "source": [
    "# Top recent enrollment dates.\n",
    "\n",
    "lst19_red.groupby(\"host_since\")[\"host_since\"].count().reset_index(name=\"count\").sort_values([\"host_since\"], ascending=False).head(7)"
   ]
  },
  {
   "cell_type": "code",
   "execution_count": 13,
   "metadata": {},
   "outputs": [
    {
     "data": {
      "text/html": [
       "<div>\n",
       "<style scoped>\n",
       "    .dataframe tbody tr th:only-of-type {\n",
       "        vertical-align: middle;\n",
       "    }\n",
       "\n",
       "    .dataframe tbody tr th {\n",
       "        vertical-align: top;\n",
       "    }\n",
       "\n",
       "    .dataframe thead th {\n",
       "        text-align: right;\n",
       "    }\n",
       "</style>\n",
       "<table border=\"1\" class=\"dataframe\">\n",
       "  <thead>\n",
       "    <tr style=\"text-align: right;\">\n",
       "      <th></th>\n",
       "      <th>id</th>\n",
       "      <th>zipcode</th>\n",
       "      <th>property_type</th>\n",
       "      <th>room_type</th>\n",
       "      <th>price</th>\n",
       "      <th>neighbourhood_group_cleansed</th>\n",
       "      <th>listing_url</th>\n",
       "      <th>last_review</th>\n",
       "      <th>reviews_per_month</th>\n",
       "      <th>host_id</th>\n",
       "      <th>host_since</th>\n",
       "      <th>retrieved_date</th>\n",
       "      <th>availability_365</th>\n",
       "    </tr>\n",
       "  </thead>\n",
       "  <tbody>\n",
       "    <tr>\n",
       "      <th>0</th>\n",
       "      <td>6369</td>\n",
       "      <td>28016</td>\n",
       "      <td>Apartment</td>\n",
       "      <td>Private room</td>\n",
       "      <td>$70.00</td>\n",
       "      <td>Chamartín</td>\n",
       "      <td>https://www.airbnb.com/rooms/6369</td>\n",
       "      <td>2020-02-29</td>\n",
       "      <td>0.61</td>\n",
       "      <td>13660</td>\n",
       "      <td>2009-04-16</td>\n",
       "      <td>2020-04-17</td>\n",
       "      <td>90</td>\n",
       "    </tr>\n",
       "  </tbody>\n",
       "</table>\n",
       "</div>"
      ],
      "text/plain": [
       "     id zipcode property_type     room_type   price  \\\n",
       "0  6369   28016     Apartment  Private room  $70.00   \n",
       "\n",
       "  neighbourhood_group_cleansed                        listing_url last_review  \\\n",
       "0                    Chamartín  https://www.airbnb.com/rooms/6369  2020-02-29   \n",
       "\n",
       "   reviews_per_month host_id host_since retrieved_date  availability_365  \n",
       "0               0.61   13660 2009-04-16     2020-04-17                90  "
      ]
     },
     "execution_count": 13,
     "metadata": {},
     "output_type": "execute_result"
    }
   ],
   "source": [
    "lst20_red = lst20[['id','zipcode','property_type','room_type','price','neighbourhood_group_cleansed'\n",
    "                   ,'listing_url','last_review','reviews_per_month','host_id','host_since','retrieved_date'\n",
    "                   ,'availability_365']]\n",
    "lst20_red.head(1)"
   ]
  },
  {
   "cell_type": "code",
   "execution_count": 14,
   "metadata": {},
   "outputs": [
    {
     "data": {
      "text/plain": [
       "id                                      object\n",
       "zipcode                                 object\n",
       "property_type                           object\n",
       "room_type                               object\n",
       "price                                   object\n",
       "neighbourhood_group_cleansed            object\n",
       "listing_url                             object\n",
       "last_review                     datetime64[ns]\n",
       "reviews_per_month                      float64\n",
       "host_id                                 object\n",
       "host_since                      datetime64[ns]\n",
       "retrieved_date                  datetime64[ns]\n",
       "availability_365                         int64\n",
       "dtype: object"
      ]
     },
     "execution_count": 14,
     "metadata": {},
     "output_type": "execute_result"
    }
   ],
   "source": [
    "# Data Types Check\n",
    "\n",
    "lst20_red.dtypes"
   ]
  },
  {
   "cell_type": "code",
   "execution_count": 15,
   "metadata": {},
   "outputs": [
    {
     "data": {
      "text/html": [
       "<div>\n",
       "<style scoped>\n",
       "    .dataframe tbody tr th:only-of-type {\n",
       "        vertical-align: middle;\n",
       "    }\n",
       "\n",
       "    .dataframe tbody tr th {\n",
       "        vertical-align: top;\n",
       "    }\n",
       "\n",
       "    .dataframe thead th {\n",
       "        text-align: right;\n",
       "    }\n",
       "</style>\n",
       "<table border=\"1\" class=\"dataframe\">\n",
       "  <thead>\n",
       "    <tr style=\"text-align: right;\">\n",
       "      <th></th>\n",
       "      <th>host_since</th>\n",
       "      <th>count</th>\n",
       "    </tr>\n",
       "  </thead>\n",
       "  <tbody>\n",
       "    <tr>\n",
       "      <th>3033</th>\n",
       "      <td>2020-04-16</td>\n",
       "      <td>1</td>\n",
       "    </tr>\n",
       "    <tr>\n",
       "      <th>3032</th>\n",
       "      <td>2020-04-15</td>\n",
       "      <td>1</td>\n",
       "    </tr>\n",
       "    <tr>\n",
       "      <th>3031</th>\n",
       "      <td>2020-04-14</td>\n",
       "      <td>2</td>\n",
       "    </tr>\n",
       "    <tr>\n",
       "      <th>3030</th>\n",
       "      <td>2020-04-10</td>\n",
       "      <td>1</td>\n",
       "    </tr>\n",
       "    <tr>\n",
       "      <th>3029</th>\n",
       "      <td>2020-04-09</td>\n",
       "      <td>1</td>\n",
       "    </tr>\n",
       "    <tr>\n",
       "      <th>3028</th>\n",
       "      <td>2020-04-08</td>\n",
       "      <td>1</td>\n",
       "    </tr>\n",
       "    <tr>\n",
       "      <th>3027</th>\n",
       "      <td>2020-04-07</td>\n",
       "      <td>1</td>\n",
       "    </tr>\n",
       "  </tbody>\n",
       "</table>\n",
       "</div>"
      ],
      "text/plain": [
       "     host_since  count\n",
       "3033 2020-04-16      1\n",
       "3032 2020-04-15      1\n",
       "3031 2020-04-14      2\n",
       "3030 2020-04-10      1\n",
       "3029 2020-04-09      1\n",
       "3028 2020-04-08      1\n",
       "3027 2020-04-07      1"
      ]
     },
     "execution_count": 15,
     "metadata": {},
     "output_type": "execute_result"
    }
   ],
   "source": [
    "# Top recent enrollment dates.\n",
    "\n",
    "lst20_red.groupby(\"host_since\")[\"host_since\"].count().reset_index(name=\"count\").sort_values([\"host_since\"], ascending=False).head(7)"
   ]
  },
  {
   "cell_type": "markdown",
   "metadata": {},
   "source": [
    "## Normalize Periods\n",
    "\n",
    "Since the data will be compared in similar periods, data is normalized for covering the same max enrollment month and date for either 2018, 2019 and 2020 data. In this case the common month and date for either data frame is the 10th of April."
   ]
  },
  {
   "cell_type": "code",
   "execution_count": 16,
   "metadata": {},
   "outputs": [
    {
     "data": {
      "text/plain": [
       "False    16995\n",
       "True        13\n",
       "Name: host_since, dtype: int64"
      ]
     },
     "execution_count": 16,
     "metadata": {},
     "output_type": "execute_result"
    }
   ],
   "source": [
    "lst18_red.host_since.isnull().value_counts()"
   ]
  },
  {
   "cell_type": "code",
   "execution_count": 17,
   "metadata": {},
   "outputs": [
    {
     "data": {
      "text/plain": [
       "False    17717\n",
       "True         4\n",
       "Name: host_since, dtype: int64"
      ]
     },
     "execution_count": 17,
     "metadata": {},
     "output_type": "execute_result"
    }
   ],
   "source": [
    "lst19_red.host_since.isnull().value_counts()"
   ]
  },
  {
   "cell_type": "code",
   "execution_count": 18,
   "metadata": {},
   "outputs": [
    {
     "data": {
      "text/plain": [
       "False    21787\n",
       "True         4\n",
       "Name: host_since, dtype: int64"
      ]
     },
     "execution_count": 18,
     "metadata": {},
     "output_type": "execute_result"
    }
   ],
   "source": [
    "lst20_red.host_since.isnull().value_counts()"
   ]
  },
  {
   "cell_type": "code",
   "execution_count": 19,
   "metadata": {},
   "outputs": [
    {
     "data": {
      "text/html": [
       "<div>\n",
       "<style scoped>\n",
       "    .dataframe tbody tr th:only-of-type {\n",
       "        vertical-align: middle;\n",
       "    }\n",
       "\n",
       "    .dataframe tbody tr th {\n",
       "        vertical-align: top;\n",
       "    }\n",
       "\n",
       "    .dataframe thead th {\n",
       "        text-align: right;\n",
       "    }\n",
       "</style>\n",
       "<table border=\"1\" class=\"dataframe\">\n",
       "  <thead>\n",
       "    <tr style=\"text-align: right;\">\n",
       "      <th></th>\n",
       "      <th>host_id</th>\n",
       "      <th>id</th>\n",
       "      <th>merge_1819</th>\n",
       "      <th>merge_181920</th>\n",
       "    </tr>\n",
       "  </thead>\n",
       "  <tbody>\n",
       "    <tr>\n",
       "      <th>0</th>\n",
       "      <td>44939562</td>\n",
       "      <td>9234402</td>\n",
       "      <td>left_only</td>\n",
       "      <td>left_only</td>\n",
       "    </tr>\n",
       "    <tr>\n",
       "      <th>1</th>\n",
       "      <td>44939562</td>\n",
       "      <td>8536053</td>\n",
       "      <td>left_only</td>\n",
       "      <td>left_only</td>\n",
       "    </tr>\n",
       "    <tr>\n",
       "      <th>2</th>\n",
       "      <td>23322740</td>\n",
       "      <td>7878252</td>\n",
       "      <td>left_only</td>\n",
       "      <td>left_only</td>\n",
       "    </tr>\n",
       "    <tr>\n",
       "      <th>3</th>\n",
       "      <td>106532211</td>\n",
       "      <td>16286152</td>\n",
       "      <td>left_only</td>\n",
       "      <td>left_only</td>\n",
       "    </tr>\n",
       "    <tr>\n",
       "      <th>4</th>\n",
       "      <td>48992339</td>\n",
       "      <td>20273611</td>\n",
       "      <td>left_only</td>\n",
       "      <td>left_only</td>\n",
       "    </tr>\n",
       "    <tr>\n",
       "      <th>5</th>\n",
       "      <td>40516896</td>\n",
       "      <td>7712666</td>\n",
       "      <td>both</td>\n",
       "      <td>both</td>\n",
       "    </tr>\n",
       "    <tr>\n",
       "      <th>6</th>\n",
       "      <td>48992339</td>\n",
       "      <td>9808033</td>\n",
       "      <td>left_only</td>\n",
       "      <td>left_only</td>\n",
       "    </tr>\n",
       "    <tr>\n",
       "      <th>7</th>\n",
       "      <td>36068881</td>\n",
       "      <td>6899113</td>\n",
       "      <td>both</td>\n",
       "      <td>both</td>\n",
       "    </tr>\n",
       "    <tr>\n",
       "      <th>8</th>\n",
       "      <td>1964576</td>\n",
       "      <td>392823</td>\n",
       "      <td>left_only</td>\n",
       "      <td>left_only</td>\n",
       "    </tr>\n",
       "    <tr>\n",
       "      <th>9</th>\n",
       "      <td>46845753</td>\n",
       "      <td>8963605</td>\n",
       "      <td>both</td>\n",
       "      <td>both</td>\n",
       "    </tr>\n",
       "    <tr>\n",
       "      <th>10</th>\n",
       "      <td>152781171</td>\n",
       "      <td>21166264</td>\n",
       "      <td>left_only</td>\n",
       "      <td>left_only</td>\n",
       "    </tr>\n",
       "    <tr>\n",
       "      <th>11</th>\n",
       "      <td>152781171</td>\n",
       "      <td>21201964</td>\n",
       "      <td>left_only</td>\n",
       "      <td>left_only</td>\n",
       "    </tr>\n",
       "    <tr>\n",
       "      <th>12</th>\n",
       "      <td>49012470</td>\n",
       "      <td>16585743</td>\n",
       "      <td>both</td>\n",
       "      <td>left_only</td>\n",
       "    </tr>\n",
       "    <tr>\n",
       "      <th>13</th>\n",
       "      <td>96811784</td>\n",
       "      <td>40480584</td>\n",
       "      <td>NaN</td>\n",
       "      <td>right_only</td>\n",
       "    </tr>\n",
       "  </tbody>\n",
       "</table>\n",
       "</div>"
      ],
      "text/plain": [
       "      host_id        id merge_1819 merge_181920\n",
       "0    44939562   9234402  left_only    left_only\n",
       "1    44939562   8536053  left_only    left_only\n",
       "2    23322740   7878252  left_only    left_only\n",
       "3   106532211  16286152  left_only    left_only\n",
       "4    48992339  20273611  left_only    left_only\n",
       "5    40516896   7712666       both         both\n",
       "6    48992339   9808033  left_only    left_only\n",
       "7    36068881   6899113       both         both\n",
       "8     1964576    392823  left_only    left_only\n",
       "9    46845753   8963605       both         both\n",
       "10  152781171  21166264  left_only    left_only\n",
       "11  152781171  21201964  left_only    left_only\n",
       "12   49012470  16585743       both    left_only\n",
       "13   96811784  40480584        NaN   right_only"
      ]
     },
     "execution_count": 19,
     "metadata": {},
     "output_type": "execute_result"
    }
   ],
   "source": [
    "# Host IDs and Property IDs with no host_id \n",
    "\n",
    "lst18_red[lst18_red.host_since.isnull()][['host_id','id']].\\\n",
    "    merge(lst19_red[['host_id','id']][lst19_red.host_since.isnull()],on=['host_id','id'],how='outer',indicator=True).\\\n",
    "    rename(columns={'_merge':\"merge_1819\"}).\\\n",
    "    merge(lst20_red[['host_id','id']][lst20_red.host_since.isnull()],on=['host_id','id'],how='outer',indicator=True).\\\n",
    "    rename(columns={'_merge':\"merge_181920\"})"
   ]
  },
  {
   "cell_type": "code",
   "execution_count": 20,
   "metadata": {},
   "outputs": [],
   "source": [
    "# Since data normalization is needed for comparing data, null registers will be filtered\n",
    "\n",
    "# Get the minimum day and month from the maximum date of enrollment of each dataframe.\n",
    "\n",
    "listMaxEnrollmenteDates = []\n",
    "listMaxEnrollmenteDates.append(lst18_red.host_since.max())\n",
    "listMaxEnrollmenteDates.append(lst19_red.host_since.max())\n",
    "listMaxEnrollmenteDates.append(lst20_red.host_since.max())\n",
    "\n",
    "def minDay(timestamps):\n",
    "    '''\n",
    "    INPUT:\n",
    "    timestamps - List of timestamps\n",
    "    \n",
    "    OUTPUT:\n",
    "    maxDay - Min day from the list of timestamos\n",
    "    '''\n",
    "    minDay = 0\n",
    "    \n",
    "    for i in timestamps:\n",
    "        if minDay == 0:\n",
    "            minDay = i.day\n",
    "        elif i.day < minDay:\n",
    "            minDay = i.day\n",
    "        else:\n",
    "            continue\n",
    "    return minDay\n",
    "\n",
    "def minMonth(timestamps):\n",
    "    '''\n",
    "    INPUT:\n",
    "    timestamps - List of timestamps\n",
    "    \n",
    "    OUTPUT:\n",
    "    maxDay - Min month from the list of timestamos\n",
    "    '''\n",
    "    minMonth = 0\n",
    "    \n",
    "    for i in timestamps:\n",
    "        if minMonth == 0:\n",
    "            minMonth = i.month\n",
    "        elif i.month < minMonth:\n",
    "            minMonth = i.month\n",
    "        else:\n",
    "            continue\n",
    "    return minMonth"
   ]
  },
  {
   "cell_type": "code",
   "execution_count": 21,
   "metadata": {},
   "outputs": [],
   "source": [
    "# Filter Data frames based of the minimum day and month of the three data frames.\n",
    "\n",
    "minDay = minDay(listMaxEnrollmenteDates)\n",
    "minMonth = minMonth(listMaxEnrollmenteDates)\n",
    "\n",
    "def normalizedPeriods(df):\n",
    "    '''\n",
    "    INPUT:\n",
    "    df - original dataframe\n",
    "    \n",
    "    OUTPUT:\n",
    "    df - dataframe with the normalized period\n",
    "    '''\n",
    "    df = df[df['host_since'].notnull()]\n",
    "    maxYear = df.host_since.max().year\n",
    "    df = df[(df[\"host_since\"]) <= \n",
    "        pd.to_datetime('%s%s%s'% (maxYear,str(minMonth).rjust(2, '0'),str(minDay).rjust(2, '0'))\n",
    "                          , format='%Y%m%d', errors='ignore')]\n",
    "    return df\n",
    "    "
   ]
  },
  {
   "cell_type": "code",
   "execution_count": 22,
   "metadata": {},
   "outputs": [],
   "source": [
    "# Normalized dataframes to its common host since data.\n",
    "\n",
    "lst18_red = normalizedPeriods(lst18_red)\n",
    "lst19_red = normalizedPeriods(lst19_red)\n",
    "lst20_red = normalizedPeriods(lst20_red)"
   ]
  },
  {
   "cell_type": "code",
   "execution_count": 23,
   "metadata": {},
   "outputs": [
    {
     "data": {
      "text/html": [
       "<div>\n",
       "<style scoped>\n",
       "    .dataframe tbody tr th:only-of-type {\n",
       "        vertical-align: middle;\n",
       "    }\n",
       "\n",
       "    .dataframe tbody tr th {\n",
       "        vertical-align: top;\n",
       "    }\n",
       "\n",
       "    .dataframe thead th {\n",
       "        text-align: right;\n",
       "    }\n",
       "</style>\n",
       "<table border=\"1\" class=\"dataframe\">\n",
       "  <thead>\n",
       "    <tr style=\"text-align: right;\">\n",
       "      <th></th>\n",
       "      <th>host_since</th>\n",
       "      <th>count</th>\n",
       "    </tr>\n",
       "  </thead>\n",
       "  <tbody>\n",
       "    <tr>\n",
       "      <th>2393</th>\n",
       "      <td>2018-04-10</td>\n",
       "      <td>5</td>\n",
       "    </tr>\n",
       "    <tr>\n",
       "      <th>2392</th>\n",
       "      <td>2018-04-09</td>\n",
       "      <td>2</td>\n",
       "    </tr>\n",
       "    <tr>\n",
       "      <th>2391</th>\n",
       "      <td>2018-04-08</td>\n",
       "      <td>3</td>\n",
       "    </tr>\n",
       "    <tr>\n",
       "      <th>2390</th>\n",
       "      <td>2018-04-07</td>\n",
       "      <td>17</td>\n",
       "    </tr>\n",
       "    <tr>\n",
       "      <th>2389</th>\n",
       "      <td>2018-04-06</td>\n",
       "      <td>4</td>\n",
       "    </tr>\n",
       "    <tr>\n",
       "      <th>2388</th>\n",
       "      <td>2018-04-05</td>\n",
       "      <td>3</td>\n",
       "    </tr>\n",
       "    <tr>\n",
       "      <th>2387</th>\n",
       "      <td>2018-04-04</td>\n",
       "      <td>1</td>\n",
       "    </tr>\n",
       "  </tbody>\n",
       "</table>\n",
       "</div>"
      ],
      "text/plain": [
       "     host_since  count\n",
       "2393 2018-04-10      5\n",
       "2392 2018-04-09      2\n",
       "2391 2018-04-08      3\n",
       "2390 2018-04-07     17\n",
       "2389 2018-04-06      4\n",
       "2388 2018-04-05      3\n",
       "2387 2018-04-04      1"
      ]
     },
     "execution_count": 23,
     "metadata": {},
     "output_type": "execute_result"
    }
   ],
   "source": [
    "lst18_red.\\\n",
    "    groupby(\"host_since\")[\"host_since\"].\\\n",
    "    count().\\\n",
    "    reset_index(name=\"count\").\\\n",
    "    sort_values([\"host_since\"], ascending=False).\\\n",
    "    head(7)"
   ]
  },
  {
   "cell_type": "code",
   "execution_count": 24,
   "metadata": {},
   "outputs": [],
   "source": [
    "#lst19.head().to_excel(\"output.xlsx\")"
   ]
  },
  {
   "cell_type": "markdown",
   "metadata": {},
   "source": [
    "## Create Recently Booked Categories\n",
    "\n",
    "As suggested in the disclaimer, we will use the last review date as a proxy for the recently booked listings."
   ]
  },
  {
   "cell_type": "code",
   "execution_count": 25,
   "metadata": {},
   "outputs": [
    {
     "data": {
      "text/html": [
       "<div>\n",
       "<style scoped>\n",
       "    .dataframe tbody tr th:only-of-type {\n",
       "        vertical-align: middle;\n",
       "    }\n",
       "\n",
       "    .dataframe tbody tr th {\n",
       "        vertical-align: top;\n",
       "    }\n",
       "\n",
       "    .dataframe thead th {\n",
       "        text-align: right;\n",
       "    }\n",
       "</style>\n",
       "<table border=\"1\" class=\"dataframe\">\n",
       "  <thead>\n",
       "    <tr style=\"text-align: right;\">\n",
       "      <th></th>\n",
       "      <th>id</th>\n",
       "      <th>zipcode</th>\n",
       "      <th>property_type</th>\n",
       "      <th>room_type</th>\n",
       "      <th>price</th>\n",
       "      <th>neighbourhood_group_cleansed</th>\n",
       "      <th>listing_url</th>\n",
       "      <th>last_review</th>\n",
       "      <th>reviews_per_month</th>\n",
       "      <th>host_id</th>\n",
       "      <th>host_since</th>\n",
       "      <th>retrieved_date</th>\n",
       "      <th>availability_365</th>\n",
       "      <th>recent_bkg_6m</th>\n",
       "      <th>recent_bkg_1y</th>\n",
       "    </tr>\n",
       "  </thead>\n",
       "  <tbody>\n",
       "    <tr>\n",
       "      <th>0</th>\n",
       "      <td>6369</td>\n",
       "      <td>28016</td>\n",
       "      <td>Apartment</td>\n",
       "      <td>Private room</td>\n",
       "      <td>$70.00</td>\n",
       "      <td>Chamartín</td>\n",
       "      <td>https://www.airbnb.com/rooms/6369</td>\n",
       "      <td>2020-02-29</td>\n",
       "      <td>0.61</td>\n",
       "      <td>13660</td>\n",
       "      <td>2009-04-16</td>\n",
       "      <td>2020-04-17</td>\n",
       "      <td>90</td>\n",
       "      <td>1</td>\n",
       "      <td>1</td>\n",
       "    </tr>\n",
       "    <tr>\n",
       "      <th>1</th>\n",
       "      <td>21853</td>\n",
       "      <td>28047</td>\n",
       "      <td>Apartment</td>\n",
       "      <td>Private room</td>\n",
       "      <td>$30.00</td>\n",
       "      <td>Latina</td>\n",
       "      <td>https://www.airbnb.com/rooms/21853</td>\n",
       "      <td>2018-07-15</td>\n",
       "      <td>0.49</td>\n",
       "      <td>83531</td>\n",
       "      <td>2010-02-21</td>\n",
       "      <td>2020-04-17</td>\n",
       "      <td>260</td>\n",
       "      <td>0</td>\n",
       "      <td>0</td>\n",
       "    </tr>\n",
       "    <tr>\n",
       "      <th>2</th>\n",
       "      <td>23001</td>\n",
       "      <td>28045</td>\n",
       "      <td>Apartment</td>\n",
       "      <td>Entire home/apt</td>\n",
       "      <td>$50.00</td>\n",
       "      <td>Arganzuela</td>\n",
       "      <td>https://www.airbnb.com/rooms/23001</td>\n",
       "      <td>NaT</td>\n",
       "      <td>NaN</td>\n",
       "      <td>82175</td>\n",
       "      <td>2010-02-17</td>\n",
       "      <td>2020-04-17</td>\n",
       "      <td>365</td>\n",
       "      <td>0</td>\n",
       "      <td>0</td>\n",
       "    </tr>\n",
       "    <tr>\n",
       "      <th>3</th>\n",
       "      <td>24836</td>\n",
       "      <td>28004</td>\n",
       "      <td>Apartment</td>\n",
       "      <td>Entire home/apt</td>\n",
       "      <td>$115.00</td>\n",
       "      <td>Centro</td>\n",
       "      <td>https://www.airbnb.com/rooms/24836</td>\n",
       "      <td>2020-01-26</td>\n",
       "      <td>0.63</td>\n",
       "      <td>101653</td>\n",
       "      <td>2010-03-31</td>\n",
       "      <td>2020-04-17</td>\n",
       "      <td>352</td>\n",
       "      <td>1</td>\n",
       "      <td>1</td>\n",
       "    </tr>\n",
       "    <tr>\n",
       "      <th>4</th>\n",
       "      <td>26825</td>\n",
       "      <td>28045</td>\n",
       "      <td>House</td>\n",
       "      <td>Private room</td>\n",
       "      <td>$25.00</td>\n",
       "      <td>Arganzuela</td>\n",
       "      <td>https://www.airbnb.com/rooms/26825</td>\n",
       "      <td>2020-03-12</td>\n",
       "      <td>1.23</td>\n",
       "      <td>114340</td>\n",
       "      <td>2010-04-27</td>\n",
       "      <td>2020-04-17</td>\n",
       "      <td>332</td>\n",
       "      <td>1</td>\n",
       "      <td>1</td>\n",
       "    </tr>\n",
       "  </tbody>\n",
       "</table>\n",
       "</div>"
      ],
      "text/plain": [
       "      id zipcode property_type        room_type    price  \\\n",
       "0   6369   28016     Apartment     Private room   $70.00   \n",
       "1  21853   28047     Apartment     Private room   $30.00   \n",
       "2  23001   28045     Apartment  Entire home/apt   $50.00   \n",
       "3  24836   28004     Apartment  Entire home/apt  $115.00   \n",
       "4  26825   28045         House     Private room   $25.00   \n",
       "\n",
       "  neighbourhood_group_cleansed                         listing_url  \\\n",
       "0                    Chamartín   https://www.airbnb.com/rooms/6369   \n",
       "1                       Latina  https://www.airbnb.com/rooms/21853   \n",
       "2                   Arganzuela  https://www.airbnb.com/rooms/23001   \n",
       "3                       Centro  https://www.airbnb.com/rooms/24836   \n",
       "4                   Arganzuela  https://www.airbnb.com/rooms/26825   \n",
       "\n",
       "  last_review  reviews_per_month host_id host_since retrieved_date  \\\n",
       "0  2020-02-29               0.61   13660 2009-04-16     2020-04-17   \n",
       "1  2018-07-15               0.49   83531 2010-02-21     2020-04-17   \n",
       "2         NaT                NaN   82175 2010-02-17     2020-04-17   \n",
       "3  2020-01-26               0.63  101653 2010-03-31     2020-04-17   \n",
       "4  2020-03-12               1.23  114340 2010-04-27     2020-04-17   \n",
       "\n",
       "   availability_365  recent_bkg_6m  recent_bkg_1y  \n",
       "0                90              1              1  \n",
       "1               260              0              0  \n",
       "2               365              0              0  \n",
       "3               352              1              1  \n",
       "4               332              1              1  "
      ]
     },
     "execution_count": 25,
     "metadata": {},
     "output_type": "execute_result"
    }
   ],
   "source": [
    "#lst18_red.apply(lambda x: 1 if x[\"last_review\"]>0 else 0)\n",
    "\n",
    "def recentlyBooked(df):\n",
    "    \n",
    "    sixmonths = df['host_since'].max() - pd.DateOffset(months=6) \n",
    "    oneyear = df['host_since'].max() - pd.DateOffset(years=1) \n",
    "    \n",
    "    df['recent_bkg_6m'] = df.last_review.apply(lambda x: 1 if x>=sixmonths else 0)\n",
    "    df['recent_bkg_1y'] = df.last_review.apply(lambda x: 1 if x>=oneyear else 0)\n",
    "    \n",
    "    return df\n",
    "\n",
    "\n",
    "lst18_red = recentlyBooked(lst18_red)\n",
    "lst19_red = recentlyBooked(lst19_red)\n",
    "lst20_red = recentlyBooked(lst20_red)\n",
    "\n",
    "lst20_red.head()"
   ]
  },
  {
   "cell_type": "markdown",
   "metadata": {},
   "source": [
    "## Is Airbnb gaining more hosts?\n",
    "\n",
    "1. recent_booking: Listings with a review in the last six months\n",
    "2. frequently_booked: Estimated booking days per year"
   ]
  },
  {
   "cell_type": "code",
   "execution_count": 26,
   "metadata": {},
   "outputs": [
    {
     "data": {
      "text/plain": [
       "(9827, 2)"
      ]
     },
     "execution_count": 26,
     "metadata": {},
     "output_type": "execute_result"
    }
   ],
   "source": [
    "# A host can have more than one property. We keep only one record for every host.\n",
    "\n",
    "host_18 = lst18_red[['host_id','host_since']].drop_duplicates()\n",
    "host_18.shape"
   ]
  },
  {
   "cell_type": "code",
   "execution_count": 27,
   "metadata": {},
   "outputs": [
    {
     "data": {
      "text/plain": [
       "(9739, 2)"
      ]
     },
     "execution_count": 27,
     "metadata": {},
     "output_type": "execute_result"
    }
   ],
   "source": [
    "host_19 = lst19_red[['host_id','host_since']].drop_duplicates()\n",
    "host_19.shape"
   ]
  },
  {
   "cell_type": "code",
   "execution_count": 28,
   "metadata": {},
   "outputs": [
    {
     "data": {
      "text/plain": [
       "(12296, 2)"
      ]
     },
     "execution_count": 28,
     "metadata": {},
     "output_type": "execute_result"
    }
   ],
   "source": [
    "host_20 = lst20_red[['host_id','host_since']].drop_duplicates()\n",
    "host_20.shape"
   ]
  },
  {
   "cell_type": "code",
   "execution_count": 29,
   "metadata": {},
   "outputs": [],
   "source": [
    "host_1819 = pd.merge(host_18, host_19, on=['host_id','host_since'], how='outer', indicator=True)\n",
    "host_1819 = host_1819.rename(columns={\"_merge\":\"merge_cat\"})\n",
    "\n",
    "host_1920 = pd.merge(host_19, host_20, on=['host_id','host_since'], how='outer', indicator=True)\n",
    "host_1920 = host_1920.rename(columns={\"_merge\":\"merge_cat\"})"
   ]
  },
  {
   "cell_type": "code",
   "execution_count": 30,
   "metadata": {},
   "outputs": [
    {
     "data": {
      "text/plain": [
       "(0, 3)"
      ]
     },
     "execution_count": 30,
     "metadata": {},
     "output_type": "execute_result"
    }
   ],
   "source": [
    "# Comprobar que exista más de un host después del merge.\n",
    "\n",
    "host_1819[(host_1819['host_id'].map(host_1819['host_id'].value_counts()) > 1)].shape"
   ]
  },
  {
   "cell_type": "code",
   "execution_count": 31,
   "metadata": {},
   "outputs": [],
   "source": [
    "# Categorización\n",
    "\n",
    "def categorization(df,maxYear):\n",
    "    val = ''\n",
    "    \n",
    "    if (df[\"merge_cat\"]==\"both\"):\n",
    "        val = \"Unchanged Host\" \n",
    "    elif (df[\"merge_cat\"]==\"right_only\") & (df[\"host_since\"] <= pd.to_datetime('%s%s%s'% (maxYear,str(minMonth).rjust(2, '0'),str(minDay).rjust(2, '0'))\n",
    "                          , format='%Y%m%d', errors='ignore')):\n",
    "        val = \"Reactivated Host\"\n",
    "    elif (df[\"merge_cat\"]==\"right_only\") & (df[\"host_since\"] > pd.to_datetime('%s%s%s'% (maxYear,str(minMonth).rjust(2, '0'),str(minDay).rjust(2, '0'))\n",
    "                          , format='%Y%m%d', errors='ignore')):\n",
    "        val = \"New Host\"\n",
    "    elif (df[\"merge_cat\"]==\"left_only\"):\n",
    "        val = \"Deactivated Host\"\n",
    "    else:\n",
    "        val = 'Uncategorized'\n",
    "    return val"
   ]
  },
  {
   "cell_type": "code",
   "execution_count": 32,
   "metadata": {},
   "outputs": [
    {
     "data": {
      "text/html": [
       "<div>\n",
       "<style scoped>\n",
       "    .dataframe tbody tr th:only-of-type {\n",
       "        vertical-align: middle;\n",
       "    }\n",
       "\n",
       "    .dataframe tbody tr th {\n",
       "        vertical-align: top;\n",
       "    }\n",
       "\n",
       "    .dataframe thead th {\n",
       "        text-align: right;\n",
       "    }\n",
       "</style>\n",
       "<table border=\"1\" class=\"dataframe\">\n",
       "  <thead>\n",
       "    <tr style=\"text-align: right;\">\n",
       "      <th></th>\n",
       "      <th>host_id</th>\n",
       "      <th>host_since</th>\n",
       "      <th>merge_cat</th>\n",
       "      <th>host_type</th>\n",
       "    </tr>\n",
       "  </thead>\n",
       "  <tbody>\n",
       "    <tr>\n",
       "      <th>0</th>\n",
       "      <td>13660</td>\n",
       "      <td>2009-04-16</td>\n",
       "      <td>both</td>\n",
       "      <td>Unchanged Host</td>\n",
       "    </tr>\n",
       "  </tbody>\n",
       "</table>\n",
       "</div>"
      ],
      "text/plain": [
       "  host_id host_since merge_cat       host_type\n",
       "0   13660 2009-04-16      both  Unchanged Host"
      ]
     },
     "execution_count": 32,
     "metadata": {},
     "output_type": "execute_result"
    }
   ],
   "source": [
    "maxYear = min([host_18.host_since.max().year,host_19.host_since.max().year])\n",
    "host_1819 = pd.merge(host_18, host_19, on=['host_id','host_since'], how='outer', indicator=True)\n",
    "host_1819 = host_1819.rename(columns={\"_merge\":\"merge_cat\"})\n",
    "host_1819[\"host_type\"] = host_1819.apply(categorization, axis=1, args=(maxYear,))\n",
    "\n",
    "maxYear = min([host_19.host_since.max().year,host_20.host_since.max().year])\n",
    "host_1920 = pd.merge(host_19, host_20, on=['host_id','host_since'], how='outer', indicator=True)\n",
    "host_1920 = host_1920.rename(columns={\"_merge\":\"merge_cat\"})\n",
    "host_1920[\"host_type\"] = host_1920.apply(categorization, axis=1, args=(maxYear,))\n",
    "host_1920.head(1)"
   ]
  },
  {
   "cell_type": "code",
   "execution_count": 33,
   "metadata": {},
   "outputs": [],
   "source": [
    "host_1819 = host_1819.groupby('host_type')['merge_cat'].size().reset_index().rename(columns={'merge_cat':'count'})\n",
    "host_1920 = host_1920.groupby('host_type')['merge_cat'].size().reset_index().rename(columns={'merge_cat':'count'})"
   ]
  },
  {
   "cell_type": "code",
   "execution_count": 34,
   "metadata": {},
   "outputs": [],
   "source": [
    "exp = lambda x: x*-1 if x.dtype==\"int64\" else x\n",
    "\n",
    "host_1819.loc[host_1819[\"host_type\"]==\"Deactivated Host\"] = host_1819[host_1819[\"host_type\"]==\"Deactivated Host\"].apply(exp)\n",
    "host_1920.loc[host_1920[\"host_type\"]==\"Deactivated Host\"] = host_1920[host_1920[\"host_type\"]==\"Deactivated Host\"].apply(exp)"
   ]
  },
  {
   "cell_type": "code",
   "execution_count": 35,
   "metadata": {},
   "outputs": [
    {
     "data": {
      "text/plain": [
       "[(0.9985915492957748, 0.9272300469483566, 0.9014084507042252),\n",
       " (0.9965202982601492, 0.8202154101077049, 0.7564208782104389),\n",
       " (0.9944490472245237, 0.7132007732670532, 0.6114333057166528),\n",
       " (0.9923777961888982, 0.6061861364264015, 0.4664457332228666),\n",
       " (0.9903065451532727, 0.4991714995857498, 0.3214581607290803),\n",
       " (0.9882352941176471, 0.39215686274509803, 0.17647058823529413)]"
      ]
     },
     "execution_count": 35,
     "metadata": {},
     "output_type": "execute_result"
    }
   ],
   "source": [
    "sns.light_palette(\"#FC642D\", reverse=False)"
   ]
  },
  {
   "cell_type": "code",
   "execution_count": 36,
   "metadata": {},
   "outputs": [
    {
     "data": {
      "image/png": "[encoded data removed]",
      "text/plain": [
       "<Figure size 864x360 with 2 Axes>"
      ]
     },
     "metadata": {
      "needs_background": "light"
     },
     "output_type": "display_data"
    }
   ],
   "source": [
    "#Colors [\"#767676\", \"#FC642D\", \"#FF5A5F\", \"#00A699\", \"#484848\"]\n",
    "\n",
    "fig, ax = plt.subplots(2,1,figsize=(12,5))\n",
    "fig.suptitle(\"Host Changes\", fontsize=14)\n",
    "sns.set_style(\"white\")\n",
    "colors = LinearSegmentedColormap.from_list(\"\", [\"#FF5A5F\",\"#00A699\",(0.9903065451532727, 0.4991714995857498, 0.3214581607290803),\"#484848\"])\n",
    "\n",
    "sns.despine(bottom=True ,left=True, right=True, top=True)\n",
    "bplt = host_1819.set_index('host_type').T.plot.barh(ax=ax[0],stacked=True,colormap=colors)\n",
    "\n",
    "sumheight=0\n",
    "offset = {'center': 0.5, 'right': 0.57, 'left': 0.43}\n",
    "for p in bplt.patches:\n",
    "    height = p.get_width()\n",
    "    sumheight+= height-height if height<0 else height\n",
    "    bplt.text((1.01*sumheight)-(height/-1.4 if height<0 else height/1.4),\n",
    "                p.get_y()+ p.get_height()*offset['center'],'{}'.format(height),\n",
    "                size=12,fontweight='bold',color=\"white\")\n",
    "for item in bplt.get_xticklabels():\n",
    "    item.set_size(10)\n",
    "for item in bplt.get_yticklabels():\n",
    "    item.set_size(10)\n",
    "\n",
    "ax[0].axvline(x=0, color='k')\n",
    "ax[0].set_xlabel(\"\",size=14)\n",
    "ax[0].set_title(\"April '19\",size=12)\n",
    "ax[0].set_xlim(-4000,13500)\n",
    "x_axis = ax[0].axes.get_xaxis()\n",
    "x_axis.set_visible(False)\n",
    "y_axis = ax[0].axes.get_yaxis()\n",
    "y_axis.set_visible(False)\n",
    "ax[0].legend(bbox_to_anchor=(1.04,1), loc=\"upper left\",fontsize=10,title=\"V. 2018\")\n",
    "\n",
    "bplt2 = host_1920.set_index('host_type').T.plot.barh(ax=ax[1],stacked=True,colormap=colors)\n",
    "sumheight=0\n",
    "offset = {'center': 0.5, 'right': 0.57, 'left': 0.43}\n",
    "for p in bplt2.patches:\n",
    "    height = p.get_width()\n",
    "    sumheight+= height-height if height<0 else height\n",
    "    bplt2.text((1.01*sumheight)-(height/-1.4 if height<0 else height/1.4),\n",
    "                p.get_y()+ p.get_height()*offset['center'],'{}'.format(height),\n",
    "                size=12,fontweight='bold',color=\"white\")\n",
    "for item in bplt2.get_xticklabels():\n",
    "    item.set_size(10)\n",
    "for item in bplt2.get_yticklabels():\n",
    "    item.set_size(10)\n",
    "\n",
    "ax[1].axvline(x=0, color='k')\n",
    "ax[1].set_xlabel(\"\",size=14)\n",
    "ax[1].set_title(\"April '20\",size=12)\n",
    "ax[1].set_xlim(-4000,13500)\n",
    "x_axis = ax[1].axes.get_xaxis()\n",
    "x_axis.set_visible(False)\n",
    "y_axis = ax[1].axes.get_yaxis()\n",
    "y_axis.set_visible(False)\n",
    "ax[1].legend(bbox_to_anchor=(1.04,1), loc=\"upper left\",fontsize=10,title=\"V. 2019\")\n",
    "\n",
    "plt.savefig('../output/host-changes-19-20.png', dpi=300, bbox_inches='tight')\n",
    "plt.show()\n",
    "plt.close()"
   ]
  },
  {
   "cell_type": "code",
   "execution_count": 37,
   "metadata": {},
   "outputs": [
    {
     "name": "stdout",
     "output_type": "stream",
     "text": [
      "<class 'matplotlib.axes._subplots.AxesSubplot'>\n",
      "<class 'matplotlib.axes._subplots.AxesSubplot'>\n"
     ]
    }
   ],
   "source": [
    "for axis in ax:\n",
    "    print(type(axis))"
   ]
  },
  {
   "cell_type": "markdown",
   "metadata": {},
   "source": [
    "## How property prices have changed?"
   ]
  },
  {
   "cell_type": "code",
   "execution_count": 38,
   "metadata": {},
   "outputs": [
    {
     "data": {
      "text/plain": [
       "(7652, 5)"
      ]
     },
     "execution_count": 38,
     "metadata": {},
     "output_type": "execute_result"
    }
   ],
   "source": [
    "# Join on id, property and room type since a property change the room offer\n",
    "year1920 = lst19_red[['id','property_type','room_type','price']].\\\n",
    "    merge(lst20_red[lst20_red['recent_bkg_6m']==1][['id','property_type','room_type','price']], \n",
    "          on=['id','property_type','room_type'], how='inner')\n",
    "year1920 = year1920.rename(columns={'price_x':'price_anio1','price_y':'price_anio2'})\n",
    "year1920.shape"
   ]
  },
  {
   "cell_type": "code",
   "execution_count": 39,
   "metadata": {},
   "outputs": [
    {
     "data": {
      "text/html": [
       "<div>\n",
       "<style scoped>\n",
       "    .dataframe tbody tr th:only-of-type {\n",
       "        vertical-align: middle;\n",
       "    }\n",
       "\n",
       "    .dataframe tbody tr th {\n",
       "        vertical-align: top;\n",
       "    }\n",
       "\n",
       "    .dataframe thead th {\n",
       "        text-align: right;\n",
       "    }\n",
       "</style>\n",
       "<table border=\"1\" class=\"dataframe\">\n",
       "  <thead>\n",
       "    <tr style=\"text-align: right;\">\n",
       "      <th></th>\n",
       "      <th>property</th>\n",
       "      <th>percentage</th>\n",
       "    </tr>\n",
       "  </thead>\n",
       "  <tbody>\n",
       "    <tr>\n",
       "      <th>0</th>\n",
       "      <td>Apartment</td>\n",
       "      <td>87.48</td>\n",
       "    </tr>\n",
       "    <tr>\n",
       "      <th>1</th>\n",
       "      <td>Loft</td>\n",
       "      <td>4.51</td>\n",
       "    </tr>\n",
       "    <tr>\n",
       "      <th>2</th>\n",
       "      <td>House</td>\n",
       "      <td>3.08</td>\n",
       "    </tr>\n",
       "    <tr>\n",
       "      <th>3</th>\n",
       "      <td>Condominium</td>\n",
       "      <td>2.39</td>\n",
       "    </tr>\n",
       "    <tr>\n",
       "      <th>4</th>\n",
       "      <td>Serviced apartment</td>\n",
       "      <td>0.84</td>\n",
       "    </tr>\n",
       "    <tr>\n",
       "      <th>5</th>\n",
       "      <td>Bed and breakfast</td>\n",
       "      <td>0.39</td>\n",
       "    </tr>\n",
       "    <tr>\n",
       "      <th>6</th>\n",
       "      <td>Hostel</td>\n",
       "      <td>0.27</td>\n",
       "    </tr>\n",
       "    <tr>\n",
       "      <th>7</th>\n",
       "      <td>Guest suite</td>\n",
       "      <td>0.24</td>\n",
       "    </tr>\n",
       "    <tr>\n",
       "      <th>8</th>\n",
       "      <td>Townhouse</td>\n",
       "      <td>0.21</td>\n",
       "    </tr>\n",
       "    <tr>\n",
       "      <th>9</th>\n",
       "      <td>Other</td>\n",
       "      <td>0.17</td>\n",
       "    </tr>\n",
       "  </tbody>\n",
       "</table>\n",
       "</div>"
      ],
      "text/plain": [
       "             property  percentage\n",
       "0           Apartment       87.48\n",
       "1                Loft        4.51\n",
       "2               House        3.08\n",
       "3         Condominium        2.39\n",
       "4  Serviced apartment        0.84\n",
       "5   Bed and breakfast        0.39\n",
       "6              Hostel        0.27\n",
       "7         Guest suite        0.24\n",
       "8           Townhouse        0.21\n",
       "9               Other        0.17"
      ]
     },
     "execution_count": 39,
     "metadata": {},
     "output_type": "execute_result"
    }
   ],
   "source": [
    "(year1920.id.value_counts().to_frame()>1).id.value_counts()\n",
    "(year1920.property_type.value_counts()/year1920.shape[0]*100).round(2).\\\n",
    "    to_frame().reset_index().rename(columns={'index':'property','property_type':'percentage'}).head(10)"
   ]
  },
  {
   "cell_type": "code",
   "execution_count": 40,
   "metadata": {},
   "outputs": [
    {
     "data": {
      "text/plain": [
       "['Apartment', 'Loft', 'House', 'Condominium']"
      ]
     },
     "execution_count": 40,
     "metadata": {},
     "output_type": "execute_result"
    }
   ],
   "source": [
    "# Focus analysis on the property types with more properties\n",
    "\n",
    "topPropertyTypes = (year1920.property_type.value_counts()/year1920.shape[0]*100).\\\n",
    "    to_frame().reset_index().rename(columns={'property_type':'percent','index':'property_type'})\n",
    "topPropertyTypesLst = list(topPropertyTypes[topPropertyTypes['percent']>=1].property_type)\n",
    "topPropertyTypesLst"
   ]
  },
  {
   "cell_type": "code",
   "execution_count": 41,
   "metadata": {},
   "outputs": [
    {
     "data": {
      "text/plain": [
       "$    7652\n",
       "Name: price_anio2, dtype: int64"
      ]
     },
     "execution_count": 41,
     "metadata": {},
     "output_type": "execute_result"
    }
   ],
   "source": [
    "# Check if currency is the same for properties.\n",
    "\n",
    "year1920.price_anio1.str.slice(stop=1).value_counts()\n",
    "year1920.price_anio2.str.slice(stop=1).value_counts()\n",
    "\n",
    "# Currency is the same"
   ]
  },
  {
   "cell_type": "code",
   "execution_count": 42,
   "metadata": {},
   "outputs": [],
   "source": [
    "expCastInt = lambda x: float(x)\n",
    "\n",
    "def convertImport(data):\n",
    "    expCastInt = lambda x: float(x)\n",
    "    \n",
    "    data = data.str.replace(r'(\\$|\\,)+','', regex=True).apply(expCastInt)\n",
    "    \n",
    "    return data\n",
    "\n",
    "year1920[['price_anio1','price_anio2']] = year1920[['price_anio1','price_anio2']].apply(convertImport,axis=1)"
   ]
  },
  {
   "cell_type": "code",
   "execution_count": 43,
   "metadata": {},
   "outputs": [],
   "source": [
    "# Categorización\n",
    "\n",
    "def catPrices(df):\n",
    "    val = ''\n",
    "        \n",
    "    if df.price_anio1==df.price_anio2:\n",
    "        val = \"Same Price\" \n",
    "    elif df.price_anio1<df.price_anio2:\n",
    "        val = \"Price Increased\" \n",
    "    elif df.price_anio1>df.price_anio2:\n",
    "        val = \"Price Drop\" \n",
    "    else:\n",
    "        val = 'Uncategorized'\n",
    "    return val"
   ]
  },
  {
   "cell_type": "code",
   "execution_count": 44,
   "metadata": {},
   "outputs": [],
   "source": [
    "year1920[\"price_category\"] = year1920.apply(catPrices, axis=1)"
   ]
  },
  {
   "cell_type": "code",
   "execution_count": 45,
   "metadata": {},
   "outputs": [
    {
     "data": {
      "text/html": [
       "<div>\n",
       "<style scoped>\n",
       "    .dataframe tbody tr th:only-of-type {\n",
       "        vertical-align: middle;\n",
       "    }\n",
       "\n",
       "    .dataframe tbody tr th {\n",
       "        vertical-align: top;\n",
       "    }\n",
       "\n",
       "    .dataframe thead th {\n",
       "        text-align: right;\n",
       "    }\n",
       "</style>\n",
       "<table border=\"1\" class=\"dataframe\">\n",
       "  <thead>\n",
       "    <tr style=\"text-align: right;\">\n",
       "      <th></th>\n",
       "      <th>category</th>\n",
       "      <th>percentage</th>\n",
       "    </tr>\n",
       "  </thead>\n",
       "  <tbody>\n",
       "    <tr>\n",
       "      <th>0</th>\n",
       "      <td>Same Price</td>\n",
       "      <td>51.91</td>\n",
       "    </tr>\n",
       "    <tr>\n",
       "      <th>1</th>\n",
       "      <td>Price Increased</td>\n",
       "      <td>30.87</td>\n",
       "    </tr>\n",
       "    <tr>\n",
       "      <th>2</th>\n",
       "      <td>Price Drop</td>\n",
       "      <td>17.22</td>\n",
       "    </tr>\n",
       "  </tbody>\n",
       "</table>\n",
       "</div>"
      ],
      "text/plain": [
       "          category  percentage\n",
       "0       Same Price       51.91\n",
       "1  Price Increased       30.87\n",
       "2       Price Drop       17.22"
      ]
     },
     "execution_count": 45,
     "metadata": {},
     "output_type": "execute_result"
    }
   ],
   "source": [
    "year1920_pct = (year1920.price_category.value_counts()/year1920.shape[0]*100).round(2).\\\n",
    "    to_frame().reset_index().rename(columns={\"price_category\":\"percentage\",\"index\":\"category\"})\n",
    "year1920_pct"
   ]
  },
  {
   "cell_type": "code",
   "execution_count": 46,
   "metadata": {},
   "outputs": [],
   "source": [
    "year1920_top_prop = year1920[year1920.property_type.isin(topPropertyTypesLst)]\n",
    "tbl = pd.pivot_table(year1920_top_prop, index=['property_type', 'price_category'], values=['price_anio1'],\n",
    "                    aggfunc={'price_anio1':'count'})\n",
    "tbl[\"percent\"]=(tbl.price_anio1 / tbl.groupby(level=0).price_anio1.transform(sum) * 100).round(1)\n",
    "tbl = tbl.reset_index().sort_values('percent', ascending=False)"
   ]
  },
  {
   "cell_type": "code",
   "execution_count": 47,
   "metadata": {},
   "outputs": [
    {
     "data": {
      "text/plain": [
       "<Figure size 432x288 with 0 Axes>"
      ]
     },
     "metadata": {},
     "output_type": "display_data"
    },
    {
     "data": {
      "image/png": "[encoded data removed]",
      "text/plain": [
       "<Figure size 1080x360 with 2 Axes>"
      ]
     },
     "metadata": {},
     "output_type": "display_data"
    }
   ],
   "source": [
    "#Colors [\"#767676\", \"#FC642D\", \"#FF5A5F\", \"#00A699\", \"#484848\"]\n",
    "\n",
    "corp = [\"#484848\", \"#FF5A5F\", \"#00A699\", \"#00A699\", \"#767676\"]\n",
    "colors = sns.light_palette(\"#FC642D\", reverse=True)\n",
    "\n",
    "plt.figure()\n",
    "plt.subplots(2,2, figsize=(15,5))\n",
    "plt.subplot(1,2,1)\n",
    "sns.set_style(\"white\")\n",
    "cht1 = sns.barplot(x='category',y='percentage',data=year1920_pct, palette=corp)\n",
    "for p in cht1.patches:\n",
    "    cht1.annotate(str(p.get_height())+'%', (p.get_x()+0.4, p.get_height()),\n",
    "                   ha='center', va='bottom',\n",
    "                   size = 8,color= 'black',fontweight='bold')\n",
    "for item in cht1.get_xticklabels():\n",
    "    item.set_size(8)\n",
    "for item in cht1.get_yticklabels():\n",
    "    item.set_size(8)\n",
    "sns.despine(left=True, right=True, top=True)\n",
    "\n",
    "plt.xlabel(\"Category\",size=10)\n",
    "plt.ylabel(\"Percentage (%)\",size=10)\n",
    "plt.ylim(0,60)\n",
    "plt.title(\"Price Update\",size=10)\n",
    "\n",
    "plt.subplot(1,2,2)\n",
    "sns.set_style(\"white\")\n",
    "\n",
    "bplot = sns.barplot(x='property_type',y='percent',hue=\"price_category\",data=tbl, \n",
    "            palette=corp,order=topPropertyTypesLst)\n",
    "\n",
    "for p in bplot.patches:\n",
    "    bplot.annotate('{}'.format(p.get_height())+'%', (p.get_x()+0.15, p.get_height()),\n",
    "                   ha='center', va='bottom',\n",
    "                   size = 8,color= 'black',fontweight='bold')\n",
    "\n",
    "for item in bplot.get_xticklabels():\n",
    "    item.set_size(8)\n",
    "for item in bplot.get_yticklabels():\n",
    "    item.set_size(8)\n",
    "sns.despine(left=True, right=True, top=True)\n",
    "\n",
    "plt.xlabel(\"Property Type\",size=10)\n",
    "plt.ylabel(\"Percentage (%)\",size=10)\n",
    "plt.ylim(0,60)\n",
    "plt.title(\"Top %s Properties\" %len(topPropertyTypesLst),size=10)\n",
    "plt.legend(bbox_to_anchor=(1.04,1), loc=\"upper left\",fontsize=8,title=\"V. 2019\")\n",
    "plt.suptitle(\"Price Updates 2020 (Recently Booked Properties)\",size=12)\n",
    "\n",
    "plt.savefig('../output/price_updates-2020.png', dpi=300, bbox_inches='tight')\n",
    "plt.show()\n",
    "plt.close()"
   ]
  },
  {
   "cell_type": "code",
   "execution_count": 48,
   "metadata": {},
   "outputs": [
    {
     "data": {
      "text/html": [
       "<div>\n",
       "<style scoped>\n",
       "    .dataframe tbody tr th:only-of-type {\n",
       "        vertical-align: middle;\n",
       "    }\n",
       "\n",
       "    .dataframe tbody tr th {\n",
       "        vertical-align: top;\n",
       "    }\n",
       "\n",
       "    .dataframe thead th {\n",
       "        text-align: right;\n",
       "    }\n",
       "</style>\n",
       "<table border=\"1\" class=\"dataframe\">\n",
       "  <thead>\n",
       "    <tr style=\"text-align: right;\">\n",
       "      <th></th>\n",
       "      <th>room_type</th>\n",
       "      <th>pct</th>\n",
       "    </tr>\n",
       "  </thead>\n",
       "  <tbody>\n",
       "    <tr>\n",
       "      <th>0</th>\n",
       "      <td>Entire home/apt</td>\n",
       "      <td>67.799268</td>\n",
       "    </tr>\n",
       "    <tr>\n",
       "      <th>1</th>\n",
       "      <td>Private room</td>\n",
       "      <td>19.380554</td>\n",
       "    </tr>\n",
       "    <tr>\n",
       "      <th>2</th>\n",
       "      <td>Shared room</td>\n",
       "      <td>0.300575</td>\n",
       "    </tr>\n",
       "  </tbody>\n",
       "</table>\n",
       "</div>"
      ],
      "text/plain": [
       "         room_type        pct\n",
       "0  Entire home/apt  67.799268\n",
       "1     Private room  19.380554\n",
       "2      Shared room   0.300575"
      ]
     },
     "execution_count": 48,
     "metadata": {},
     "output_type": "execute_result"
    }
   ],
   "source": [
    "(year1920[year1920.loc[:,\"property_type\"]=='Apartment'].groupby(\"room_type\")[\"room_type\"].size()/year1920.shape[0]*100).to_frame()\\\n",
    ".rename(columns={\"room_type\":\"pct\"}).\\\n",
    "reset_index().sort_values('pct',ascending=False).head(5)"
   ]
  },
  {
   "cell_type": "code",
   "execution_count": 49,
   "metadata": {},
   "outputs": [
    {
     "data": {
      "image/png": "[encoded data removed]",
      "text/plain": [
       "<Figure size 600x400 with 1 Axes>"
      ]
     },
     "metadata": {},
     "output_type": "display_data"
    }
   ],
   "source": [
    "tbl2 = pd.pivot_table(year1920[year1920.property_type=='Apartment'], index=['room_type', 'price_category'], values=['price_anio1'],\n",
    "                    aggfunc={'price_anio1':'count'})\n",
    "tbl2[\"percent\"]=(tbl2.price_anio1 / tbl2.groupby(level=0).price_anio1.transform(sum) * 100).round(1)\n",
    "tbl2 = tbl2.reset_index().sort_values('percent', ascending=False)\n",
    "\n",
    "topRoomTypes = (year1920.room_type.value_counts()/year1920.shape[0]*100).\\\n",
    "    to_frame().reset_index().rename(columns={'room_type':'percent','index':'room_type'})\n",
    "topRoomTypesLst = list(topRoomTypes.room_type)\n",
    "topRoomTypesLst\n",
    "\n",
    "corp = [\"#484848\", \"#FF5A5F\", \"#00A699\", \"#00A699\", \"#767676\"]\n",
    "\n",
    "plt.figure(dpi=100)\n",
    "sns.set_style(\"white\")\n",
    "plt.suptitle(\"Price Updates 2020\",size=12)\n",
    "plt.title(\"Recently Booked Apartments\",size=10)\n",
    "\n",
    "bplot = sns.barplot(x='room_type',y='percent',hue=\"price_category\",data=tbl2, \n",
    "            palette=corp, order=topRoomTypesLst)\n",
    "\n",
    "for p in bplot.patches:\n",
    "    bplot.annotate('{}'.format(p.get_height())+'%', (p.get_x()+0.15, p.get_height()),\n",
    "                   ha='center', va='bottom',\n",
    "                   size = 8,color= 'black',fontweight='bold')\n",
    "\n",
    "for item in bplot.get_xticklabels():\n",
    "    item.set_size(8)\n",
    "for item in bplot.get_yticklabels():\n",
    "    item.set_size(8)\n",
    "sns.despine(left=True, right=True, top=True)\n",
    "\n",
    "plt.xlabel(\"Room Type\",size=10)\n",
    "plt.ylabel(\"Percentage (%)\",size=10)\n",
    "\n",
    "plt.legend(bbox_to_anchor=(1.04,1), loc=\"upper left\",fontsize=8,title=\"V. 2019\")\n",
    "plt.savefig('../output/price_updates_apartments-2020.png', dpi=300, bbox_inches='tight')\n",
    "plt.show()\n",
    "plt.close()"
   ]
  },
  {
   "cell_type": "markdown",
   "metadata": {},
   "source": [
    "## Are there more rooms available?"
   ]
  },
  {
   "cell_type": "code",
   "execution_count": 50,
   "metadata": {},
   "outputs": [
    {
     "data": {
      "text/html": [
       "<div>\n",
       "<style scoped>\n",
       "    .dataframe tbody tr th:only-of-type {\n",
       "        vertical-align: middle;\n",
       "    }\n",
       "\n",
       "    .dataframe tbody tr th {\n",
       "        vertical-align: top;\n",
       "    }\n",
       "\n",
       "    .dataframe thead th {\n",
       "        text-align: right;\n",
       "    }\n",
       "</style>\n",
       "<table border=\"1\" class=\"dataframe\">\n",
       "  <thead>\n",
       "    <tr style=\"text-align: right;\">\n",
       "      <th></th>\n",
       "      <th>2018</th>\n",
       "      <th>2019</th>\n",
       "      <th>2020</th>\n",
       "    </tr>\n",
       "  </thead>\n",
       "  <tbody>\n",
       "    <tr>\n",
       "      <th>count</th>\n",
       "      <td>11168.000000</td>\n",
       "      <td>11529.000000</td>\n",
       "      <td>12905.000000</td>\n",
       "    </tr>\n",
       "    <tr>\n",
       "      <th>mean</th>\n",
       "      <td>181.824857</td>\n",
       "      <td>166.083702</td>\n",
       "      <td>183.881906</td>\n",
       "    </tr>\n",
       "    <tr>\n",
       "      <th>std</th>\n",
       "      <td>121.256246</td>\n",
       "      <td>119.315865</td>\n",
       "      <td>131.489079</td>\n",
       "    </tr>\n",
       "    <tr>\n",
       "      <th>min</th>\n",
       "      <td>0.000000</td>\n",
       "      <td>0.000000</td>\n",
       "      <td>0.000000</td>\n",
       "    </tr>\n",
       "    <tr>\n",
       "      <th>25%</th>\n",
       "      <td>69.000000</td>\n",
       "      <td>55.000000</td>\n",
       "      <td>74.000000</td>\n",
       "    </tr>\n",
       "    <tr>\n",
       "      <th>50%</th>\n",
       "      <td>171.000000</td>\n",
       "      <td>149.000000</td>\n",
       "      <td>176.000000</td>\n",
       "    </tr>\n",
       "    <tr>\n",
       "      <th>75%</th>\n",
       "      <td>303.000000</td>\n",
       "      <td>284.000000</td>\n",
       "      <td>323.000000</td>\n",
       "    </tr>\n",
       "    <tr>\n",
       "      <th>max</th>\n",
       "      <td>365.000000</td>\n",
       "      <td>365.000000</td>\n",
       "      <td>365.000000</td>\n",
       "    </tr>\n",
       "  </tbody>\n",
       "</table>\n",
       "</div>"
      ],
      "text/plain": [
       "               2018          2019          2020\n",
       "count  11168.000000  11529.000000  12905.000000\n",
       "mean     181.824857    166.083702    183.881906\n",
       "std      121.256246    119.315865    131.489079\n",
       "min        0.000000      0.000000      0.000000\n",
       "25%       69.000000     55.000000     74.000000\n",
       "50%      171.000000    149.000000    176.000000\n",
       "75%      303.000000    284.000000    323.000000\n",
       "max      365.000000    365.000000    365.000000"
      ]
     },
     "execution_count": 50,
     "metadata": {},
     "output_type": "execute_result"
    }
   ],
   "source": [
    "availability = lst18_red[lst18_red['recent_bkg_6m']==1].loc[:,['id','availability_365']].rename(columns={'availability_365':'2018'}).\\\n",
    "    merge(lst19_red[lst19_red['recent_bkg_6m']==1].loc[:,['id','availability_365']], how='outer').rename(columns={'availability_365':'2019'}).\\\n",
    "    merge(lst20_red[lst20_red['recent_bkg_6m']==1].loc[:,['id','availability_365']], how='outer').rename(columns={'availability_365':'2020'})\n",
    "availability.describe()"
   ]
  },
  {
   "cell_type": "code",
   "execution_count": 51,
   "metadata": {},
   "outputs": [
    {
     "data": {
      "text/html": [
       "<div>\n",
       "<style scoped>\n",
       "    .dataframe tbody tr th:only-of-type {\n",
       "        vertical-align: middle;\n",
       "    }\n",
       "\n",
       "    .dataframe tbody tr th {\n",
       "        vertical-align: top;\n",
       "    }\n",
       "\n",
       "    .dataframe thead th {\n",
       "        text-align: right;\n",
       "    }\n",
       "</style>\n",
       "<table border=\"1\" class=\"dataframe\">\n",
       "  <thead>\n",
       "    <tr style=\"text-align: right;\">\n",
       "      <th></th>\n",
       "      <th>year</th>\n",
       "      <th>availability</th>\n",
       "    </tr>\n",
       "  </thead>\n",
       "  <tbody>\n",
       "    <tr>\n",
       "      <th>0</th>\n",
       "      <td>2018</td>\n",
       "      <td>307.0</td>\n",
       "    </tr>\n",
       "  </tbody>\n",
       "</table>\n",
       "</div>"
      ],
      "text/plain": [
       "   year  availability\n",
       "0  2018         307.0"
      ]
     },
     "execution_count": 51,
     "metadata": {},
     "output_type": "execute_result"
    }
   ],
   "source": [
    "availability = availability.loc[:,['2018','2019','2020']].\\\n",
    "    unstack().to_frame().reset_index().\\\n",
    "    rename(columns={0:'availability','level_0':'year'}).\\\n",
    "    drop('level_1',axis=1).dropna(subset=['availability'])\n",
    "\n",
    "availability.head(1)"
   ]
  },
  {
   "cell_type": "code",
   "execution_count": 52,
   "metadata": {},
   "outputs": [
    {
     "data": {
      "image/png": "[encoded data removed]",
      "text/plain": [
       "<Figure size 600x400 with 1 Axes>"
      ]
     },
     "metadata": {},
     "output_type": "display_data"
    }
   ],
   "source": [
    "corp = [\"#00A699\", \"#FF5A5F\", \"#FC642D\",\"#767676\", \"#484848\"]\n",
    "\n",
    "f, ax = plt.subplots(dpi=100)\n",
    "sns.set_style(\"white\")\n",
    "\n",
    "# Plot the orbital period with horizontal boxes\n",
    "sns.boxplot(x=\"year\", y=\"availability\", data=availability, palette=corp)\n",
    "\n",
    "lines = ax.get_lines()\n",
    "categories = ax.get_xticks()\n",
    "\n",
    "for cat in categories:\n",
    "    # every 4th line at the interval of 6 is median line\n",
    "    # 0 -> p25 1 -> p75 2 -> lower whisker 3 -> upper whisker 4 -> p50 5 -> upper extreme value\n",
    "    p25 = round(lines[0+cat*6].get_ydata()[0],1) \n",
    "    p50 = round(lines[4+cat*6].get_ydata()[0],1) \n",
    "    p75 = round(lines[1+cat*6].get_ydata()[0],1) \n",
    "\n",
    "    ax.text(cat,p25,f'{p25}',ha='center',va='center', \n",
    "        fontweight='bold',size=10,color='white',\n",
    "        bbox=dict(facecolor=\"#767676\"))\n",
    "    ax.text(cat,p50,f'{p50}',ha='center',va='center', \n",
    "        fontweight='bold',size=10,color='white',\n",
    "        bbox=dict(facecolor=\"#484848\"))\n",
    "    ax.text(cat,p75,f'{p75}',ha='center',va='center', \n",
    "        fontweight='bold',size=10,color='white',\n",
    "        bbox=dict(facecolor=\"#767676\"))\n",
    "    \n",
    "    \n",
    "ax.set_ylabel(\"Availability Days\")\n",
    "ax.set_xlabel(\"Year\",size=10)\n",
    "\n",
    "plt.suptitle(\"Available Days per Year\",size=12)\n",
    "plt.title(\"Recently Booked of Each Year\",size=8)\n",
    "\n",
    "sns.despine(trim=True, left=True)\n",
    "\n",
    "plt.savefig('../output/availability_days-2020.png', dpi=300, bbox_inches='tight')\n",
    "plt.show()\n",
    "plt.close()"
   ]
  },
  {
   "cell_type": "code",
   "execution_count": null,
   "metadata": {},
   "outputs": [],
   "source": []
  },
  {
   "cell_type": "code",
   "execution_count": null,
   "metadata": {},
   "outputs": [],
   "source": []
  }
 ],
 "metadata": {
  "kernelspec": {
   "display_name": "Python 3",
   "language": "python",
   "name": "python3"
  },
  "language_info": {
   "codemirror_mode": {
    "name": "ipython",
    "version": 3
   },
   "file_extension": ".py",
   "mimetype": "text/x-python",
   "name": "python",
   "nbconvert_exporter": "python",
   "pygments_lexer": "ipython3",
   "version": "3.8.2"
  }
 },
 "nbformat": 4,
 "nbformat_minor": 4
}
